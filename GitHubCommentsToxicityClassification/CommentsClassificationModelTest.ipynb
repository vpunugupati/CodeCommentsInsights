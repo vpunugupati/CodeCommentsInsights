{
 "metadata": {
  "language_info": {
   "codemirror_mode": {
    "name": "ipython",
    "version": 3
   },
   "file_extension": ".py",
   "mimetype": "text/x-python",
   "name": "python",
   "nbconvert_exporter": "python",
   "pygments_lexer": "ipython3",
   "version": "3.7.6-final"
  },
  "orig_nbformat": 2,
  "kernelspec": {
   "name": "python3",
   "display_name": "Python 3"
  }
 },
 "nbformat": 4,
 "nbformat_minor": 2,
 "cells": [
  {
   "cell_type": "code",
   "execution_count": 1,
   "metadata": {
    "tags": []
   },
   "outputs": [
    {
     "output_type": "stream",
     "name": "stderr",
     "text": "Using TensorFlow backend.\n"
    }
   ],
   "source": [
    "import pandas as pd\n",
    "import numpy as np\n",
    "import pickle\n",
    "from sklearn.model_selection import train_test_split\n",
    "from sklearn.model_selection import StratifiedKFold\n",
    "from keras.preprocessing.text import Tokenizer\n",
    "from keras.preprocessing.sequence import pad_sequences\n",
    "from keras.optimizers import Adam\n",
    "from keras.models import Sequential\n",
    "from keras.layers import Dense\n",
    "from keras.layers import Flatten\n",
    "from keras.layers import Embedding\n",
    "from keras.layers import Bidirectional,LSTM,RepeatVector,TimeDistributed,Activation\n",
    "from keras.layers import BatchNormalization, Flatten, Conv1D, MaxPooling1D,GlobalMaxPool1D\n",
    "from keras.layers import Dropout,SpatialDropout1D\n",
    "from keras.callbacks import EarlyStopping, ModelCheckpoint, ReduceLROnPlateau\n",
    "from keras.models import Model, model_from_json\n",
    "import tensorflow as tf"
   ]
  },
  {
   "cell_type": "code",
   "execution_count": 2,
   "metadata": {},
   "outputs": [],
   "source": [
    "df_test = pd.read_csv('TrainTestData/GithubComments.csv')"
   ]
  },
  {
   "cell_type": "code",
   "execution_count": 3,
   "metadata": {},
   "outputs": [
    {
     "output_type": "execute_result",
     "data": {
      "text/plain": "            id  number                  category  \\\n12607  3613341       4               PullRequest   \n12608  3612528       3               PullRequest   \n12609  3611240       2               PullRequest   \n12610  2597405       2  PullRequestReviewComment   \n12611  2597536       2  PullRequestReviewComment   \n12612  3610730       1               PullRequest   \n12613  2596854       1  PullRequestReviewComment   \n12614  2596866       1  PullRequestReviewComment   \n12615  2596897       1  PullRequestReviewComment   \n12616  2597660       1  PullRequestReviewComment   \n\n                                            comment_text  \n12607  Fixed a bug in SimpleJson with DateTimeOffset ...  \n12608  The subject tells it all. I'll merge this imme...  \n12609  These were copied from GHfW but stripped of an...  \n12610  You can remove the `-e whatever` flags. Those ...  \n12611                Probably want to remove this right?  \n12612  We plan to release this code under the MIT lic...  \n12613                                Fill in the blanks?  \n12614                         An extra 't' in targeting.  \n12615                              Capitalize Contribute  \n12616                                    TROLOLOLOL DOH!  ",
      "text/html": "<div>\n<style scoped>\n    .dataframe tbody tr th:only-of-type {\n        vertical-align: middle;\n    }\n\n    .dataframe tbody tr th {\n        vertical-align: top;\n    }\n\n    .dataframe thead th {\n        text-align: right;\n    }\n</style>\n<table border=\"1\" class=\"dataframe\">\n  <thead>\n    <tr style=\"text-align: right;\">\n      <th></th>\n      <th>id</th>\n      <th>number</th>\n      <th>category</th>\n      <th>comment_text</th>\n    </tr>\n  </thead>\n  <tbody>\n    <tr>\n      <th>12607</th>\n      <td>3613341</td>\n      <td>4</td>\n      <td>PullRequest</td>\n      <td>Fixed a bug in SimpleJson with DateTimeOffset ...</td>\n    </tr>\n    <tr>\n      <th>12608</th>\n      <td>3612528</td>\n      <td>3</td>\n      <td>PullRequest</td>\n      <td>The subject tells it all. I'll merge this imme...</td>\n    </tr>\n    <tr>\n      <th>12609</th>\n      <td>3611240</td>\n      <td>2</td>\n      <td>PullRequest</td>\n      <td>These were copied from GHfW but stripped of an...</td>\n    </tr>\n    <tr>\n      <th>12610</th>\n      <td>2597405</td>\n      <td>2</td>\n      <td>PullRequestReviewComment</td>\n      <td>You can remove the `-e whatever` flags. Those ...</td>\n    </tr>\n    <tr>\n      <th>12611</th>\n      <td>2597536</td>\n      <td>2</td>\n      <td>PullRequestReviewComment</td>\n      <td>Probably want to remove this right?</td>\n    </tr>\n    <tr>\n      <th>12612</th>\n      <td>3610730</td>\n      <td>1</td>\n      <td>PullRequest</td>\n      <td>We plan to release this code under the MIT lic...</td>\n    </tr>\n    <tr>\n      <th>12613</th>\n      <td>2596854</td>\n      <td>1</td>\n      <td>PullRequestReviewComment</td>\n      <td>Fill in the blanks?</td>\n    </tr>\n    <tr>\n      <th>12614</th>\n      <td>2596866</td>\n      <td>1</td>\n      <td>PullRequestReviewComment</td>\n      <td>An extra 't' in targeting.</td>\n    </tr>\n    <tr>\n      <th>12615</th>\n      <td>2596897</td>\n      <td>1</td>\n      <td>PullRequestReviewComment</td>\n      <td>Capitalize Contribute</td>\n    </tr>\n    <tr>\n      <th>12616</th>\n      <td>2597660</td>\n      <td>1</td>\n      <td>PullRequestReviewComment</td>\n      <td>TROLOLOLOL DOH!</td>\n    </tr>\n  </tbody>\n</table>\n</div>"
     },
     "metadata": {},
     "execution_count": 3
    }
   ],
   "source": [
    "df_test.tail(10)"
   ]
  },
  {
   "cell_type": "code",
   "execution_count": 4,
   "metadata": {},
   "outputs": [],
   "source": [
    "df_test['comment_text'] = df_test['comment_text'].fillna(\"unknown\")\n",
    "df_test['comment_text'] = df_test['comment_text'].str.lower()"
   ]
  },
  {
   "cell_type": "code",
   "execution_count": 5,
   "metadata": {},
   "outputs": [],
   "source": [
    "list_classes = [\"toxic\", \"severe_toxic\", \"obscene\", \"threat\", \"insult\", \"identity_hate\"]"
   ]
  },
  {
   "cell_type": "code",
   "execution_count": 6,
   "metadata": {},
   "outputs": [],
   "source": [
    "with open(f\"ModelData/SavedTokenizer.pickle\", 'rb') as handle:\n",
    "    tokenizer = pickle.load(handle)\n",
    "\n",
    "docs_test = df_test['comment_text'].astype(str)\n",
    "encoded_docs_test = tokenizer.texts_to_sequences(docs_test)\n",
    "df_test_padded = pad_sequences(encoded_docs_test, maxlen=150, padding='post')"
   ]
  },
  {
   "cell_type": "code",
   "execution_count": 7,
   "metadata": {
    "tags": []
   },
   "outputs": [
    {
     "output_type": "stream",
     "name": "stdout",
     "text": "Model: \"sequential_1\"\n_________________________________________________________________\nLayer (type)                 Output Shape              Param #   \n=================================================================\nembedding_1 (Embedding)      (None, 150, 300)          63101100  \n_________________________________________________________________\ndropout_1 (Dropout)          (None, 150, 300)          0         \n_________________________________________________________________\nbidirectional_1 (Bidirection (None, 150, 100)          140400    \n_________________________________________________________________\nglobal_max_pooling1d_1 (Glob (None, 100)               0         \n_________________________________________________________________\ndense_1 (Dense)              (None, 70)                7070      \n_________________________________________________________________\ndropout_2 (Dropout)          (None, 70)                0         \n_________________________________________________________________\ndense_2 (Dense)              (None, 6)                 426       \n=================================================================\nTotal params: 63,248,996\nTrainable params: 147,896\nNon-trainable params: 63,101,100\n_________________________________________________________________\n"
    }
   ],
   "source": [
    "#Reading the model from JSON file\n",
    "with open('ModelData/LSTMModel.json', 'r') as json_file:\n",
    "    json_savedModel= json_file.read()\n",
    "#load the model architecture \n",
    "model_j = model_from_json(json_savedModel)\n",
    "model_j.summary()"
   ]
  },
  {
   "cell_type": "code",
   "execution_count": 8,
   "metadata": {
    "tags": []
   },
   "outputs": [
    {
     "output_type": "stream",
     "name": "stdout",
     "text": "WARNING:tensorflow:From C:\\Users\\venka\\anaconda3\\lib\\site-packages\\tensorflow\\python\\ops\\nn_impl.py:180: add_dispatch_support.<locals>.wrapper (from tensorflow.python.ops.array_ops) is deprecated and will be removed in a future version.\nInstructions for updating:\nUse tf.where in 2.0, which has the same broadcast rule as np.where\nWARNING:tensorflow:From C:\\Users\\venka\\anaconda3\\lib\\site-packages\\keras\\backend\\tensorflow_backend.py:422: The name tf.global_variables is deprecated. Please use tf.compat.v1.global_variables instead.\n\n"
    },
    {
     "output_type": "execute_result",
     "data": {
      "text/plain": "array([[1.1384487e-04, 8.9406967e-08, 1.6272068e-05, 1.0430813e-06,\n        3.8146973e-06, 7.1525574e-07],\n       [3.4958124e-05, 0.0000000e+00, 5.3942204e-06, 0.0000000e+00,\n        8.3446503e-07, 1.1920929e-07],\n       [1.9453764e-03, 1.5795231e-06, 2.1758676e-04, 1.7106533e-05,\n        1.1307001e-04, 1.9431114e-05],\n       ...,\n       [1.4069736e-02, 2.4557114e-05, 1.1205077e-03, 2.4852157e-04,\n        1.0867417e-03, 1.9359589e-04],\n       [7.1764886e-03, 1.8090010e-05, 8.2802773e-04, 1.5869737e-04,\n        7.1296096e-04, 1.4537573e-04],\n       [1.0181576e-02, 1.2725592e-05, 1.1458099e-03, 9.1254711e-05,\n        9.5714489e-04, 1.5601776e-04]], dtype=float32)"
     },
     "metadata": {},
     "execution_count": 8
    }
   ],
   "source": [
    "model_j.load_weights('ModelData/LSTMModelWeights.hdf')\n",
    "# compile the model\n",
    "Adam_opt = Adam(lr=0.0003, beta_1=0.9, beta_2=0.999, epsilon=1e-08, decay=0.000015)\n",
    "model_j.compile(optimizer = Adam_opt, loss='binary_crossentropy', metrics=[tf.keras.metrics.AUC()])\n",
    "predictions = model_j.predict(df_test_padded)\n",
    "predictions"
   ]
  },
  {
   "cell_type": "code",
   "execution_count": 9,
   "metadata": {},
   "outputs": [],
   "source": [
    "results = pd.read_csv(\"TrainTestData/ResultsSample.csv\")\n",
    "results[list_classes] = predictions\n",
    "results.to_csv(\"LSTM-Results.csv\", index=False)"
   ]
  },
  {
   "cell_type": "code",
   "execution_count": null,
   "metadata": {},
   "outputs": [],
   "source": []
  }
 ]
}